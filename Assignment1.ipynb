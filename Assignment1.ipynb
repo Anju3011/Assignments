{
 "cells": [
  {
   "cell_type": "code",
   "execution_count": 1,
   "id": "17f4ddaf-9a64-4dd5-9778-7748502886c8",
   "metadata": {},
   "outputs": [],
   "source": [
    "#1.\n",
    "x = 10\n",
    "y = 20"
   ]
  },
  {
   "cell_type": "code",
   "execution_count": 4,
   "id": "1e69cdb0-66c1-4d8c-95df-df35b2ede5bd",
   "metadata": {},
   "outputs": [
    {
     "name": "stdout",
     "output_type": "stream",
     "text": [
      "782\n"
     ]
    }
   ],
   "source": [
    "#2.\n",
    "length=23\n",
    "width=34\n",
    "area = length*width\n",
    "print (area)"
   ]
  },
  {
   "cell_type": "code",
   "execution_count": 5,
   "id": "6ea5afd0-5616-410a-9a2e-2450d2b71f63",
   "metadata": {},
   "outputs": [
    {
     "name": "stdout",
     "output_type": "stream",
     "text": [
      "95.0\n"
     ]
    }
   ],
   "source": [
    "#3.\n",
    "C = 35\n",
    "F = (C * 9/5) +32\n",
    "print (F)"
   ]
  },
  {
   "cell_type": "code",
   "execution_count": 6,
   "id": "da5ca8f9-e744-463c-a9a7-f0cbaf6dbb6c",
   "metadata": {},
   "outputs": [
    {
     "data": {
      "text/plain": [
       "6"
      ]
     },
     "execution_count": 6,
     "metadata": {},
     "output_type": "execute_result"
    }
   ],
   "source": [
    "#1.\n",
    "a = \"Ananya\"\n",
    "len(a)"
   ]
  },
  {
   "cell_type": "code",
   "execution_count": null,
   "id": "728afe73-fe0f-4641-a9e6-8a32e26549a8",
   "metadata": {},
   "outputs": [],
   "source": [
    "#2.\n",
    "name = \"communicatively\"\n",
    "vowels = ['a','e','i','o','u']\n"
   ]
  },
  {
   "cell_type": "code",
   "execution_count": 7,
   "id": "650f2714-b656-4e0f-84cf-7d830b882f8e",
   "metadata": {},
   "outputs": [
    {
     "name": "stdout",
     "output_type": "stream",
     "text": [
      "regnartS\n"
     ]
    }
   ],
   "source": [
    "#3.\n",
    "a= \"Stranger\"[::-1]\n",
    "print(a)"
   ]
  },
  {
   "cell_type": "code",
   "execution_count": 10,
   "id": "32bd3541-b091-42b7-bd6c-4be2ff9b7daf",
   "metadata": {},
   "outputs": [
    {
     "name": "stdout",
     "output_type": "stream",
     "text": [
      "yes\n"
     ]
    }
   ],
   "source": [
    "#4.\n",
    "def isPalindrome(a):\n",
    "    return a == a[::-1]\n",
    "\n",
    "a = \"malayalam\"\n",
    "b = isPalindrome(a)\n",
    "\n",
    "if b:\n",
    "    print(\"yes\")\n",
    "else:\n",
    "    print(\"No\")  "
   ]
  },
  {
   "cell_type": "code",
   "execution_count": 12,
   "id": "011f83af-9dd9-4e0c-9a7d-e3062d5de9ba",
   "metadata": {},
   "outputs": [
    {
     "name": "stdout",
     "output_type": "stream",
     "text": [
      "PhysicsWallahDataScieneCourse\n"
     ]
    }
   ],
   "source": [
    "#5.\n",
    "def removeSpaces(string):\n",
    "    string = string.replace(' ', '')\n",
    "    return string\n",
    "string = \"Physics  Wallah Data  Sciene Course\"\n",
    "print(removeSpaces(string))\n",
    "    "
   ]
  },
  {
   "cell_type": "code",
   "execution_count": null,
   "id": "01f88c40-b0ab-491b-a337-787d14477724",
   "metadata": {},
   "outputs": [],
   "source": []
  },
  {
   "cell_type": "code",
   "execution_count": null,
   "id": "a3192e59-98ba-4cb5-8e99-900995c4825b",
   "metadata": {},
   "outputs": [],
   "source": []
  }
 ],
 "metadata": {
  "kernelspec": {
   "display_name": "Python 3 (ipykernel)",
   "language": "python",
   "name": "python3"
  },
  "language_info": {
   "codemirror_mode": {
    "name": "ipython",
    "version": 3
   },
   "file_extension": ".py",
   "mimetype": "text/x-python",
   "name": "python",
   "nbconvert_exporter": "python",
   "pygments_lexer": "ipython3",
   "version": "3.10.8"
  }
 },
 "nbformat": 4,
 "nbformat_minor": 5
}
